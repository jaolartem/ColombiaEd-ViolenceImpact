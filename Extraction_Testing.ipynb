{
 "cells": [
  {
   "cell_type": "markdown",
   "id": "c9732c4f",
   "metadata": {},
   "source": [
    "# ETL Testing Notebook"
   ]
  },
  {
   "cell_type": "markdown",
   "id": "66c8f275",
   "metadata": {},
   "source": [
    "This notebook contains the tests for the ETL process."
   ]
  },
  {
   "cell_type": "markdown",
   "id": "ccd32741",
   "metadata": {},
   "source": [
    "\n",
    "The main purpose of this notebook is to test the extraction functionalities developed for the ETL process. \n",
    "We will be testing the extraction of data from Excel and CSV files and validate the data's integrity.\n"
   ]
  },
  {
   "cell_type": "code",
   "execution_count": 1,
   "id": "1b82b2d6",
   "metadata": {},
   "outputs": [],
   "source": [
    "\n",
    "import os\n",
    "import pandas as pd\n",
    "from etl_module import Extract\n"
   ]
  },
  {
   "cell_type": "markdown",
   "id": "faf7766f",
   "metadata": {},
   "source": [
    "## Testing Excel Extraction"
   ]
  },
  {
   "cell_type": "code",
   "execution_count": 2,
   "id": "cc582707",
   "metadata": {},
   "outputs": [],
   "source": [
    "# Define the global dictionary\n",
    "ALL_DFS = {}\n",
    "\n",
    "# Define the folder path\n",
    "folder_path = \"/home/jaolartem/Familia/Datos/proyecto/Colombia 2020\"\n",
    "\n",
    "# Initialize the extraction class\n",
    "extractor = Extract()\n",
    "\n",
    "# Test Excel extraction\n",
    "extractor.from_excel(folder_path)\n"
   ]
  },
  {
   "cell_type": "markdown",
   "id": "2ca3bc30",
   "metadata": {},
   "source": [
    "## Testing CSV Extraction"
   ]
  },
  {
   "cell_type": "code",
   "execution_count": 3,
   "id": "6a28498d",
   "metadata": {},
   "outputs": [],
   "source": [
    "\n",
    "# For this demonstration, we assume that there's a dedicated folder for CSV files.\n",
    "# Define the CSV folder path\n",
    "csv_folder_path = \"/path/to/csv/folder\"  # Replace with the actual path\n",
    "\n",
    "# Test CSV extraction\n",
    "extractor.from_csv(csv_folder_path)\n"
   ]
  },
  {
   "cell_type": "markdown",
   "id": "17bd5c8e",
   "metadata": {},
   "source": [
    "## Displaying Loaded DataFrames"
   ]
  },
  {
   "cell_type": "code",
   "execution_count": 4,
   "id": "abbd6187",
   "metadata": {},
   "outputs": [],
   "source": [
    "\n",
    "# Display the loaded DataFrames\n",
    "for df_name, df in ALL_DFS.items():\n",
    "    print(f\"DataFrame Name: {df_name}\")\n",
    "    display(df.head())  # Displaying only the first few rows for brevity\n"
   ]
  }
 ],
 "metadata": {
  "kernelspec": {
   "display_name": "base",
   "language": "python",
   "name": "python3"
  },
  "language_info": {
   "codemirror_mode": {
    "name": "ipython",
    "version": 3
   },
   "file_extension": ".py",
   "mimetype": "text/x-python",
   "name": "python",
   "nbconvert_exporter": "python",
   "pygments_lexer": "ipython3",
   "version": "3.11.5"
  }
 },
 "nbformat": 4,
 "nbformat_minor": 5
}
