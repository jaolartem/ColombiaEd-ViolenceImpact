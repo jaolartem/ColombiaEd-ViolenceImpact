{
 "cells": [
  {
   "cell_type": "markdown",
   "id": "ef8bff60",
   "metadata": {},
   "source": [
    "# ETL Testing Notebook\n",
    "\n",
    "This notebook assists you in executing and testing the ETL process we've developed. Ensure all modules and classes are in the same directory as this notebook or adjust the import paths as necessary."
   ]
  },
  {
   "cell_type": "code",
   "execution_count": 1,
   "id": "85ec5ebc",
   "metadata": {},
   "outputs": [],
   "source": [
    "import os\n",
    "import pandas as pd\n",
    "from etl_module import Extract, Transformation"
   ]
  },
  {
   "cell_type": "markdown",
   "id": "1817690a",
   "metadata": {},
   "source": [
    "## Step 1: Extract Data from Excel\n",
    "\n",
    "Specify the folder name that contains your Excel files. The `Extract` class will convert each sheet from every Excel file into DataFrames."
   ]
  },
  {
   "cell_type": "code",
   "execution_count": 2,
   "id": "912941fa",
   "metadata": {},
   "outputs": [
    {
     "ename": "RuntimeError",
     "evalue": "dictionary keys changed during iteration",
     "output_type": "error",
     "traceback": [
      "\u001b[0;31m---------------------------------------------------------------------------\u001b[0m",
      "\u001b[0;31mRuntimeError\u001b[0m                              Traceback (most recent call last)",
      "\u001b[1;32m/home/jaolartem/Familia/Datos/proyecto/ETL_Testing.ipynb Celda 4\u001b[0m line \u001b[0;36m3\n\u001b[1;32m      <a href='vscode-notebook-cell:/home/jaolartem/Familia/Datos/proyecto/ETL_Testing.ipynb#W3sZmlsZQ%3D%3D?line=0'>1</a>\u001b[0m folder_name \u001b[39m=\u001b[39m \u001b[39m'\u001b[39m\u001b[39m/home/jaolartem/Familia/Datos/proyecto/Colombia 2020\u001b[39m\u001b[39m'\u001b[39m  \u001b[39m# TODO: Replace with your actual directory path\u001b[39;00m\n\u001b[1;32m      <a href='vscode-notebook-cell:/home/jaolartem/Familia/Datos/proyecto/ETL_Testing.ipynb#W3sZmlsZQ%3D%3D?line=1'>2</a>\u001b[0m extractor \u001b[39m=\u001b[39m Extract()\n\u001b[0;32m----> <a href='vscode-notebook-cell:/home/jaolartem/Familia/Datos/proyecto/ETL_Testing.ipynb#W3sZmlsZQ%3D%3D?line=2'>3</a>\u001b[0m extractor\u001b[39m.\u001b[39;49mfrom_excel(folder_name)\n",
      "File \u001b[0;32m~/Familia/Datos/proyecto/etl_module.py:32\u001b[0m, in \u001b[0;36mExtract.from_excel\u001b[0;34m(self, path)\u001b[0m\n\u001b[1;32m     30\u001b[0m \u001b[39m# Check if the given path is a directory or single file\u001b[39;00m\n\u001b[1;32m     31\u001b[0m \u001b[39mif\u001b[39;00m os\u001b[39m.\u001b[39mpath\u001b[39m.\u001b[39misdir(path):\n\u001b[0;32m---> 32\u001b[0m     dfs_dict \u001b[39m=\u001b[39m folder_to_csv(path)  \u001b[39m# This function should handle the directory, not the excel_to_csv function\u001b[39;00m\n\u001b[1;32m     33\u001b[0m     \u001b[39mfor\u001b[39;00m excel_path \u001b[39min\u001b[39;00m glob\u001b[39m.\u001b[39mglob(os\u001b[39m.\u001b[39mpath\u001b[39m.\u001b[39mjoin(path, \u001b[39m\"\u001b[39m\u001b[39m*.xlsx\u001b[39m\u001b[39m\"\u001b[39m)):\n\u001b[1;32m     34\u001b[0m         \u001b[39mself\u001b[39m\u001b[39m.\u001b[39mconverted_files\u001b[39m.\u001b[39mappend(excel_path)\n",
      "File \u001b[0;32m~/Familia/Datos/proyecto/Excel_csv_folder.py:17\u001b[0m, in \u001b[0;36mfolder_to_csv\u001b[0;34m(folder_path)\u001b[0m\n\u001b[1;32m     14\u001b[0m \u001b[39m# Iterate over all Excel files in the specified folder and its subdirectories\u001b[39;00m\n\u001b[1;32m     15\u001b[0m \u001b[39mfor\u001b[39;00m excel_path \u001b[39min\u001b[39;00m glob\u001b[39m.\u001b[39mglob(os\u001b[39m.\u001b[39mpath\u001b[39m.\u001b[39mjoin(folder_path, \u001b[39m'\u001b[39m\u001b[39m**\u001b[39m\u001b[39m'\u001b[39m, \u001b[39m'\u001b[39m\u001b[39m*.xlsx\u001b[39m\u001b[39m'\u001b[39m), recursive\u001b[39m=\u001b[39m\u001b[39mTrue\u001b[39;00m):\n\u001b[1;32m     16\u001b[0m     \u001b[39m# Convert each Excel file to CSV files (one per sheet)\u001b[39;00m\n\u001b[0;32m---> 17\u001b[0m     excel_to_csv(excel_path)\n",
      "File \u001b[0;32m~/Familia/Datos/proyecto/excel_to_csv.py:27\u001b[0m, in \u001b[0;36mexcel_to_csv\u001b[0;34m(excel_path)\u001b[0m\n\u001b[1;32m     25\u001b[0m \u001b[39m# Convert each sheet in the Excel file to a DataFrame and save as CSV\u001b[39;00m\n\u001b[1;32m     26\u001b[0m df_dict \u001b[39m=\u001b[39m pd\u001b[39m.\u001b[39mread_excel(excel_path, sheet_name\u001b[39m=\u001b[39m\u001b[39mNone\u001b[39;00m)\n\u001b[0;32m---> 27\u001b[0m \u001b[39mfor\u001b[39;00m sheet_name, df \u001b[39min\u001b[39;00m df_dict\u001b[39m.\u001b[39mitems():\n\u001b[1;32m     28\u001b[0m     csv_file_name \u001b[39m=\u001b[39m \u001b[39mf\u001b[39m\u001b[39m\"\u001b[39m\u001b[39m{\u001b[39;00mbase_filename\u001b[39m}\u001b[39;00m\u001b[39m_\u001b[39m\u001b[39m{\u001b[39;00msheet_name\u001b[39m}\u001b[39;00m\u001b[39m.csv\u001b[39m\u001b[39m\"\u001b[39m\n\u001b[1;32m     29\u001b[0m     version_suffix \u001b[39m=\u001b[39m \u001b[39m1\u001b[39m\n",
      "\u001b[0;31mRuntimeError\u001b[0m: dictionary keys changed during iteration"
     ]
    }
   ],
   "source": [
    "folder_name = '/home/jaolartem/Familia/Datos/proyecto/Colombia 2020'  # TODO: Replace with your actual directory path\n",
    "extractor = Extract()\n",
    "extractor.from_excel(folder_name)"
   ]
  },
  {
   "cell_type": "markdown",
   "id": "c38d76f3",
   "metadata": {},
   "source": [
    "## Step 2: Transform DataFrames\n",
    "\n",
    "In this step, we take the global dictionary of dataframes and transform them as specified earlier."
   ]
  },
  {
   "cell_type": "code",
   "execution_count": null,
   "id": "7266be41",
   "metadata": {},
   "outputs": [],
   "source": [
    "transformer = Transformation()\n",
    "transformed_dfs = transformer.Violence_pivot()\n",
    "print(transformed_dfs)"
   ]
  },
  {
   "cell_type": "markdown",
   "id": "b850a5a1",
   "metadata": {},
   "source": [
    "## Verify Results\n",
    "\n",
    "Here, you can add additional cells to load and view the generated CSV files, check the dataframe structures, etc."
   ]
  }
 ],
 "metadata": {
  "kernelspec": {
   "display_name": "Python 3",
   "language": "python",
   "name": "python3"
  },
  "language_info": {
   "codemirror_mode": {
    "name": "ipython",
    "version": 3
   },
   "file_extension": ".py",
   "mimetype": "text/x-python",
   "name": "python",
   "nbconvert_exporter": "python",
   "pygments_lexer": "ipython3",
   "version": "3.11.6"
  }
 },
 "nbformat": 4,
 "nbformat_minor": 5
}
