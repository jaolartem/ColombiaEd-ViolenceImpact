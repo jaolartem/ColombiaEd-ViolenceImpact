{
 "cells": [
  {
   "cell_type": "markdown",
   "metadata": {},
   "source": [
    "# ETL Testing Notebook\n",
    "\n",
    "This notebook assists you in executing and testing the ETL process we've developed. Ensure all modules and classes are in the same directory as this notebook or adjust the import paths as necessary."
   ]
  },
  {
   "cell_type": "code",
   "execution_count": null,
   "metadata": {},
   "outputs": [],
   "source": [
    "# Import necessary dependencies\n",
    "from etl_module import ETLProcessor, ExcelConverter, DataFrameTransformation\n",
    "import pandas as pd"
   ]
  },
  {
   "cell_type": "markdown",
   "metadata": {},
   "source": [
    "## Step 1: Convert Excel files to CSV\n",
    "\n",
    "Specify the folder name that contains your Excel files. This function will convert each sheet from every Excel file into an individual CSV file."
   ]
  },
  {
   "cell_type": "code",
   "execution_count": null,
   "metadata": {},
   "outputs": [],
   "source": [
    "# Specify the folder name\n",
    "folder_name = 'your_folder_name_here'\n",
    "\n",
    "converter = ExcelConverter()\n",
    "dfs_list = converter.convert_excel_to_csv(folder_name)"
   ]
  },
  {
   "cell_type": "markdown",
   "metadata": {},
   "source": [
    "## Step 2: Transform and Pivot DataFrames\n",
    "\n",
    "In this step, we take the dataframes in `dfs_list` and transform them as specified earlier."
   ]
  },
  {
   "cell_type": "code",
   "execution_count": null,
   "metadata": {},
   "outputs": [],
   "source": [
    "transformer = DataFrameTransformation()\n",
    "\n",
    "for sheet_name, df in dfs_list.items():\n",
    "    # Transform and pivot the dataframe\n",
    "    transformed_df = transformer.pivot_dataframe(df)\n",
    "    \n",
    "    # Save the transformed dataframe back to the list\n",
    "    dfs_list[sheet_name] = transformed_df"
   ]
  },
  {
   "cell_type": "markdown",
   "metadata": {},
   "source": [
    "## Step 3: Complete ETL Process\n",
    "\n",
    "If you wish to perform the complete ETL process in one step, simply use the `ETLProcessor` class."
   ]
  },
  {
   "cell_type": "code",
   "execution_count": null,
   "metadata": {},
   "outputs": [],
   "source": [
    "etl_processor = ETLProcessor()\n",
    "etl_processor.run_etl_process(folder_name)"
   ]
  },
  {
   "cell_type": "markdown",
   "metadata": {},
   "source": [
    "## Verify Results\n",
    "\n",
    "Here, you can add additional cells to load and view the generated CSV files, check the dataframe structures, etc."
   ]
  }
 ],
 "metadata": {
  "kernelspec": {
   "display_name": "Python 3",
   "language": "python",
   "name": "python3"
  },
  "language_info": {
   "codemirror_mode": {
    "name": "ipython",
    "version": 3
   },
   "file_extension": ".py",
   "mimetype": "text/x-python",
   "name": "python",
   "nbconvert_exporter": "python",
   "pygments_lexer": "ipython3",
   "version": "3.8.5"
  }
 },
 "nbformat": 4,
 "nbformat_minor": 5
}

