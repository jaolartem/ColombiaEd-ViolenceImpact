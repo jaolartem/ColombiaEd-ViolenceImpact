{
 "cells": [
  {
   "cell_type": "markdown",
   "metadata": {},
   "source": [
    "# ETL Pipeline Testing Notebook\n",
    "\n",
    "This notebook demonstrates how to run and test the Extract, Transform, and Load (ETL) process we've developed. The goal is to process data from various formats (Excel, CSV, and TXT) and transform them based on the analysis requirements."
   ]
  },
  {
   "cell_type": "markdown",
   "metadata": {},
   "source": [
    "## Importing Necessary Libraries and Modules\n",
    "\n",
    "Let's start by importing the modules and libraries we need to run our pipeline."
   ]
  },
  {
   "cell_type": "code",
   "execution_count": 9,
   "metadata": {},
   "outputs": [],
   "source": [
    "import pandas as pd\n",
    "import os\n",
    "from etl_module import Extraction, Transformation\n",
    "from file_detector import process_directory\n"
   ]
  },
  {
   "cell_type": "markdown",
   "metadata": {},
   "source": [
    "## Defining Paths and Testing Functions\n",
    "\n",
    "Let's define the path to the folder containing the data and create a function to test the ETL process."
   ]
  },
  {
   "cell_type": "code",
   "execution_count": 12,
   "metadata": {},
   "outputs": [
    {
     "name": "stderr",
     "output_type": "stream",
     "text": [
      "ERROR:root:Error processing the file /home/jaolartem/Familia/Datos/proyecto/Data/3. Resultados Saber11/SB11_20081.txt. Error message: read_csv() got an unexpected keyword argument 'error_bad_lines'\n",
      "ERROR:root:Error processing the file /home/jaolartem/Familia/Datos/proyecto/Data/3. Resultados Saber11/SB11_20001.txt. Error message: read_csv() got an unexpected keyword argument 'error_bad_lines'\n",
      "ERROR:root:Error processing the file /home/jaolartem/Familia/Datos/proyecto/Data/3. Resultados Saber11/SB11_20002.txt. Error message: read_csv() got an unexpected keyword argument 'error_bad_lines'\n",
      "ERROR:root:Error processing the file /home/jaolartem/Familia/Datos/proyecto/Data/3. Resultados Saber11/SB11_20011.txt. Error message: read_csv() got an unexpected keyword argument 'error_bad_lines'\n",
      "ERROR:root:Error processing the file /home/jaolartem/Familia/Datos/proyecto/Data/3. Resultados Saber11/SB11_20012.txt. Error message: read_csv() got an unexpected keyword argument 'error_bad_lines'\n",
      "ERROR:root:Error processing the file /home/jaolartem/Familia/Datos/proyecto/Data/3. Resultados Saber11/SB11_20021.txt. Error message: read_csv() got an unexpected keyword argument 'error_bad_lines'\n",
      "ERROR:root:Error processing the file /home/jaolartem/Familia/Datos/proyecto/Data/3. Resultados Saber11/SB11_20022.txt. Error message: read_csv() got an unexpected keyword argument 'error_bad_lines'\n",
      "ERROR:root:Error processing the file /home/jaolartem/Familia/Datos/proyecto/Data/3. Resultados Saber11/SB11_20032.txt. Error message: read_csv() got an unexpected keyword argument 'error_bad_lines'\n",
      "ERROR:root:Error processing the file /home/jaolartem/Familia/Datos/proyecto/Data/3. Resultados Saber11/SB11_20041.txt. Error message: read_csv() got an unexpected keyword argument 'error_bad_lines'\n",
      "ERROR:root:Error processing the file /home/jaolartem/Familia/Datos/proyecto/Data/3. Resultados Saber11/SB11_20042.txt. Error message: read_csv() got an unexpected keyword argument 'error_bad_lines'\n",
      "ERROR:root:Error processing the file /home/jaolartem/Familia/Datos/proyecto/Data/3. Resultados Saber11/SB11_20051.txt. Error message: read_csv() got an unexpected keyword argument 'error_bad_lines'\n",
      "ERROR:root:Error processing the file /home/jaolartem/Familia/Datos/proyecto/Data/3. Resultados Saber11/SB11_20052.txt. Error message: read_csv() got an unexpected keyword argument 'error_bad_lines'\n",
      "ERROR:root:Error processing the file /home/jaolartem/Familia/Datos/proyecto/Data/3. Resultados Saber11/SB11_20061.txt. Error message: read_csv() got an unexpected keyword argument 'error_bad_lines'\n",
      "ERROR:root:Error processing the file /home/jaolartem/Familia/Datos/proyecto/Data/3. Resultados Saber11/SB11_20062.txt. Error message: read_csv() got an unexpected keyword argument 'error_bad_lines'\n",
      "ERROR:root:Error processing the file /home/jaolartem/Familia/Datos/proyecto/Data/3. Resultados Saber11/SB11_20071.txt. Error message: read_csv() got an unexpected keyword argument 'error_bad_lines'\n",
      "ERROR:root:Error processing the file /home/jaolartem/Familia/Datos/proyecto/Data/3. Resultados Saber11/SB11_20072.txt. Error message: read_csv() got an unexpected keyword argument 'error_bad_lines'\n",
      "ERROR:root:Error processing the file /home/jaolartem/Familia/Datos/proyecto/Data/3. Resultados Saber11/SB11_20082.txt. Error message: read_csv() got an unexpected keyword argument 'error_bad_lines'\n",
      "ERROR:root:Error processing the file /home/jaolartem/Familia/Datos/proyecto/Data/3. Resultados Saber11/SB11_20091.txt. Error message: read_csv() got an unexpected keyword argument 'error_bad_lines'\n",
      "ERROR:root:Error processing the file /home/jaolartem/Familia/Datos/proyecto/Data/3. Resultados Saber11/SB11_20092.txt. Error message: read_csv() got an unexpected keyword argument 'error_bad_lines'\n",
      "ERROR:root:Error processing the file /home/jaolartem/Familia/Datos/proyecto/Data/3. Resultados Saber11/SB11_20101.txt. Error message: read_csv() got an unexpected keyword argument 'error_bad_lines'\n",
      "ERROR:root:Error processing the file /home/jaolartem/Familia/Datos/proyecto/Data/3. Resultados Saber11/SB11_20102.txt. Error message: read_csv() got an unexpected keyword argument 'error_bad_lines'\n",
      "ERROR:root:Error processing the file /home/jaolartem/Familia/Datos/proyecto/Data/3. Resultados Saber11/SB11_20111.txt. Error message: read_csv() got an unexpected keyword argument 'error_bad_lines'\n",
      "ERROR:root:Error processing the file /home/jaolartem/Familia/Datos/proyecto/Data/3. Resultados Saber11/SB11_20112.txt. Error message: read_csv() got an unexpected keyword argument 'error_bad_lines'\n",
      "ERROR:root:Error processing the file /home/jaolartem/Familia/Datos/proyecto/Data/3. Resultados Saber11/SB11_20122.txt. Error message: read_csv() got an unexpected keyword argument 'error_bad_lines'\n",
      "ERROR:root:Error processing the file /home/jaolartem/Familia/Datos/proyecto/Data/3. Resultados Saber11/SB11_20151.txt. Error message: read_csv() got an unexpected keyword argument 'error_bad_lines'\n",
      "ERROR:root:Error processing the file /home/jaolartem/Familia/Datos/proyecto/Data/3. Resultados Saber11/SB11_20152.txt. Error message: read_csv() got an unexpected keyword argument 'error_bad_lines'\n",
      "ERROR:root:Error processing the file /home/jaolartem/Familia/Datos/proyecto/Data/3. Resultados Saber11/SB11_20191_.txt. Error message: read_csv() got an unexpected keyword argument 'error_bad_lines'\n",
      "ERROR:root:Error processing the file /home/jaolartem/Familia/Datos/proyecto/Data/3. Resultados Saber11/SB11_20201.txt. Error message: read_csv() got an unexpected keyword argument 'error_bad_lines'\n",
      "ERROR:root:Error processing the file /home/jaolartem/Familia/Datos/proyecto/Data/3. Resultados Saber11/SB11_20202.txt. Error message: read_csv() got an unexpected keyword argument 'error_bad_lines'\n",
      "ERROR:root:Error processing the file /home/jaolartem/Familia/Datos/proyecto/Data/3. Resultados Saber11/SB11_20211.txt. Error message: read_csv() got an unexpected keyword argument 'error_bad_lines'\n",
      "ERROR:root:Error processing the file /home/jaolartem/Familia/Datos/proyecto/Data/3. Resultados Saber11/SB11_20212.txt. Error message: read_csv() got an unexpected keyword argument 'error_bad_lines'\n",
      "ERROR:root:Error processing Excel files in /home/jaolartem/Familia/Datos/proyecto/Data/3. Resultados Saber11/Bases de datos 2019-2022/2019-1.xlsx. Error: 'DataFrame' object has no attribute 'append'\n",
      "ERROR:root:Error processing Excel files in /home/jaolartem/Familia/Datos/proyecto/Data/3. Resultados Saber11/Bases de datos 2019-2022/2019-2.xlsx. Error: 'DataFrame' object has no attribute 'append'\n",
      "ERROR:root:Error processing Excel files in /home/jaolartem/Familia/Datos/proyecto/Data/3. Resultados Saber11/Bases de datos 2019-2022/2020-1.xlsx. Error: 'DataFrame' object has no attribute 'append'\n",
      "ERROR:root:Error processing Excel files in /home/jaolartem/Familia/Datos/proyecto/Data/3. Resultados Saber11/Bases de datos 2019-2022/2020-2.xlsx. Error: 'DataFrame' object has no attribute 'append'\n",
      "ERROR:root:Error processing Excel files in /home/jaolartem/Familia/Datos/proyecto/Data/3. Resultados Saber11/Bases de datos 2019-2022/2021-1.xlsx. Error: 'DataFrame' object has no attribute 'append'\n",
      "ERROR:root:Error processing Excel files in /home/jaolartem/Familia/Datos/proyecto/Data/3. Resultados Saber11/Bases de datos 2019-2022/2021-2.xlsx. Error: 'DataFrame' object has no attribute 'append'\n",
      "ERROR:root:Error processing Excel files in /home/jaolartem/Familia/Datos/proyecto/Data/3. Resultados Saber11/Bases de datos 2019-2022/2022-1.xlsx. Error: 'DataFrame' object has no attribute 'append'\n",
      "ERROR:root:Error processing Excel files in /home/jaolartem/Familia/Datos/proyecto/Data/3. Resultados Saber11/Bases de datos 2019-2022/2022-2.xlsx. Error: 'DataFrame' object has no attribute 'append'\n",
      "ERROR:root:Error processing Excel files in /home/jaolartem/Familia/Datos/proyecto/Data/Colombia 2020/1-Homicidios. Colombia, 2020.xlsx. Error: 'DataFrame' object has no attribute 'append'\n",
      "ERROR:root:Error processing Excel files in /home/jaolartem/Familia/Datos/proyecto/Data/Colombia 2020/2-Suicidios. Colombia, 2020.xlsx. Error: 'DataFrame' object has no attribute 'append'\n",
      "ERROR:root:Error processing Excel files in /home/jaolartem/Familia/Datos/proyecto/Data/Colombia 2020/5-Violencia interpersonal. Colombia, 2020.xlsx. Error: 'DataFrame' object has no attribute 'append'\n",
      "ERROR:root:Error processing Excel files in /home/jaolartem/Familia/Datos/proyecto/Data/Colombia 2020/6-Exámenes médico legales por presunto delito sexual. Colombia, 2020.xlsx. Error: 'DataFrame' object has no attribute 'append'\n",
      "ERROR:root:Error processing Excel files in /home/jaolartem/Familia/Datos/proyecto/Data/Colombia 2020/7-Violencia intrafamiliar. Colombia, 2020.xlsx. Error: 'DataFrame' object has no attribute 'append'\n",
      "ERROR:root:Error processing Excel files in /home/jaolartem/Familia/Datos/proyecto/Data/Colombia 2020/8-Violencia de pareja. Colombia, 2020.xlsx. Error: 'DataFrame' object has no attribute 'append'\n",
      "ERROR:root:Error processing Excel files in /home/jaolartem/Familia/Datos/proyecto/Data/Datos Victimización/Ciclo Vital.xlsx. Error: 'DataFrame' object has no attribute 'append'\n",
      "ERROR:root:Error processing Excel files in /home/jaolartem/Familia/Datos/proyecto/Data/Datos Victimización/Discapacidad.xlsx. Error: 'DataFrame' object has no attribute 'append'\n",
      "ERROR:root:Error processing Excel files in /home/jaolartem/Familia/Datos/proyecto/Data/Datos Victimización/Genero.xlsx. Error: 'DataFrame' object has no attribute 'append'\n",
      "ERROR:root:Error processing Excel files in /home/jaolartem/Familia/Datos/proyecto/Data/Datos Victimización/Hechos Directos.xlsx. Error: 'DataFrame' object has no attribute 'append'\n",
      "ERROR:root:Error processing Excel files in /home/jaolartem/Familia/Datos/proyecto/Data/Datos Victimización/Hechos.xlsx. Error: 'DataFrame' object has no attribute 'append'\n",
      "ERROR:root:Error processing Excel files in /home/jaolartem/Familia/Datos/proyecto/Data/Datos Victimización/Pertenencia Etnica.xlsx. Error: 'DataFrame' object has no attribute 'append'\n",
      "ERROR:root:Error processing Excel files in /home/jaolartem/Familia/Datos/proyecto/Data/Datos Victimización/retos-del-curso-de-principios-de-dataviz-para-bi_e3d6aaa0-98ff-45ea-9192-64c2cb99cedb.xlsx. Error: 'DataFrame' object has no attribute 'append'\n",
      "ERROR:root:Error processing Excel files in /home/jaolartem/Familia/Datos/proyecto/Data/Geograficos y poblacionales/DCD-area-proypoblacion-Mun-2005-2019.xlsx. Error: 'DataFrame' object has no attribute 'append'\n",
      "ERROR:root:Error processing Excel files in /home/jaolartem/Familia/Datos/proyecto/Data/Geograficos y poblacionales/DCD-area-proypoblacion-Mun-2020-2035-ActPostCOVID-19.xlsx. Error: 'DataFrame' object has no attribute 'append'\n"
     ]
    }
   ],
   "source": [
    "ALL_DFS = {}\n",
    "folder_name = '/home/jaolartem/Familia/Datos/proyecto/Data'  # TODO: Replace with your actual directory path\n",
    "extractor = Extraction()\n",
    "ALL_DFS = extractor.extract_from_directory(folder_name)\n",
    "\n",
    "\n"
   ]
  },
  {
   "cell_type": "markdown",
   "metadata": {},
   "source": [
    "## Running the ETL Pipeline\n",
    "\n",
    "Now, let's run the test function to see the pipeline in action. This function will process all the files in the specified folder, transform them according to the defined rules, and finally show us a preview of the processed data."
   ]
  },
  {
   "cell_type": "code",
   "execution_count": 11,
   "metadata": {},
   "outputs": [
    {
     "name": "stdout",
     "output_type": "stream",
     "text": [
      "                               Original_File Document_Type  \\\n",
      "0  DCD-area-proypoblacion-Mun-1995-2004.xlsx         excel   \n",
      "\n",
      "                               Original_Folder  \\\n",
      "0  /home/jaolartem/Familia/Datos/proyecto/Data   \n",
      "\n",
      "                                         Backup_Path  \\\n",
      "0  backup_csv/datos cargados/Municipal_DCD-area-p...   \n",
      "\n",
      "                                   Unique_Identifier  \n",
      "0  DCD-area-proypoblacion-Mun-1995-2004.xlsx_Muni...  \n"
     ]
    }
   ],
   "source": [
    "path = os.path.expanduser('/home/jaolartem/Familia/Datos/proyecto/backup_csv/backup_info.csv')\n",
    "info = pd.read_csv(path)\n",
    "print(info)\n"
   ]
  },
  {
   "cell_type": "code",
   "execution_count": null,
   "metadata": {},
   "outputs": [],
   "source": [
    "# Test the ETL pipeline\n",
    "'''\n",
    "dfs = test_etl_pipeline(folder_name)\n",
    "for df_name, df_content in dfs.items():\n",
    "    print(f'--- {df_name} ---')\n",
    "    print(df_content.head())  # Print the first 5 rows of each dataframe\n",
    "    \n",
    "'''"
   ]
  },
  {
   "cell_type": "markdown",
   "metadata": {},
   "source": [
    "## Summary\n",
    "\n",
    "We've showcased how our ETL pipeline works, which is capable of processing data from multiple formats and transforming them accordingly. This notebook can be used as a starting point for further analysis or to integrate more steps into the ETL process."
   ]
  }
 ],
 "metadata": {
  "kernelspec": {
   "display_name": "Python 3",
   "language": "python",
   "name": "python3"
  },
  "language_info": {
   "codemirror_mode": {
    "name": "ipython",
    "version": 3
   },
   "file_extension": ".py",
   "mimetype": "text/x-python",
   "name": "python",
   "nbconvert_exporter": "python",
   "pygments_lexer": "ipython3",
   "version": "3.11.6"
  }
 },
 "nbformat": 4,
 "nbformat_minor": 4
}
